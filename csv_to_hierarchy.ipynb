{
 "cells": [
  {
   "cell_type": "code",
   "execution_count": null,
   "metadata": {},
   "outputs": [],
   "source": [
    "import pandas as pd\n",
    "import numpy as np\n",
    "import datetime as dt"
   ]
  },
  {
   "cell_type": "markdown",
   "metadata": {},
   "source": [
    "# CLASS"
   ]
  },
  {
   "cell_type": "code",
   "execution_count": null,
   "metadata": {},
   "outputs": [],
   "source": [
    "class OxyGen(pd.DataFrame):\n",
    "    \n",
    "    def  __init__(self, filename):\n",
    "        KEEP_DICT = {\n",
    "        'OXG_ID_INDIVIDU'  : 'person',\n",
    "        'OXG_ID_FATHER'    : 'father',\n",
    "        'OXG_ID_MOTHER'    : 'mother',\n",
    "        'OXG_PARTNER'      : 'spouse',\n",
    "        'OXG_ID_PATRONYME' : 'surname',\n",
    "        'OXG_GIVNAME'      : 'firstname',\n",
    "        'OXG_BIRTH_DATE'   : 'birthday', \n",
    "        'OXG_Sex'          : 'sex',\n",
    "        }\n",
    "        SEX_DICT = {0:'male',1:'female'}\n",
    "        df = pd.read_csv(filename)\n",
    "        df = df[list(KEEP_DICT.keys())]\n",
    "        df.rename(columns=KEEP_DICT,inplace=True)\n",
    "        df['sex'].replace(SEX_DICT, inplace=True)\n",
    "        df.set_index('person',inplace=True)\n",
    "        super().__init__(df)\n",
    "\n",
    "    def is_couple(self,person1,person2):\n",
    "        df = self\n",
    "        if df.spouse[person1] == person2:\n",
    "            return True\n",
    "        else:\n",
    "            return False\n",
    "        \n",
    "    def find_origin_couple(self):\n",
    "        df = self\n",
    "        people_with_no_parents = df[np.isnan(df.mother) & np.isnan(df.father)].index\n",
    "        for person in people_with_no_parents:\n",
    "            spouse = df.spouse[person]\n",
    "            spousemother = df.mother[spouse]\n",
    "            spousefather = df.father[spouse]\n",
    "            if np.isnan([spousemother,spousefather]).all():\n",
    "                if df.sex[person]=='male':\n",
    "                    origin_couple = {'father':person, 'mother':spouse}\n",
    "                elif df.sex[person=='female']:\n",
    "                    origin_couple = {'father':spouse, 'mother':person}\n",
    "                break\n",
    "        return origin_couple\n",
    "    \n",
    "    def find_children(self, *args):\n",
    "        df = self\n",
    "        parents = args\n",
    "        num_parents = len(parents)\n",
    "        assert (num_parents <= 2), 'too many parent inputs (1 or 2 only)'\n",
    "        assert (num_parents > 0), 'not enough parent inputs'\n",
    "        if num_parents == 2:\n",
    "            parent1 = parents[0]\n",
    "            parent2 = parents[1]\n",
    "            assert self.is_couple(parent1,parent2), 'not a couple'\n",
    "            if df.sex[parent1]=='male':\n",
    "                father = parent1\n",
    "                mother = parent2\n",
    "            else:\n",
    "                mother = parent1\n",
    "                father = parent2\n",
    "            father_slicer = (df.father==father)\n",
    "            mother_slicer = (df.mother==mother)\n",
    "            children_row = df[father_slicer & mother_slicer].sort_values(by=['birthday'])\n",
    "        elif num_parents == 1:\n",
    "            parent = parents[0]\n",
    "            if df.sex[parent]=='male':\n",
    "                children_row = df[df.father==parent]\n",
    "            else:\n",
    "                children_row = df[df.mother==parent]\n",
    "        children_row = children_row.sort_values(by=['birthday'])    \n",
    "        return children_row\n",
    "\n",
    "    def find_spouse(self,person):\n",
    "        df = self\n",
    "        spouse = df.loc[person,'spouse']\n",
    "        spouse_row = df[df.index == spouse]\n",
    "        return spouse_row\n",
    "        \n",
    "        \"\"\"if np.isnan(spouse):\n",
    "            return None\n",
    "        else: \n",
    "            return spouse.astype(int)\"\"\"\n",
    "    \n",
    "    def find_children_and_spouses(self,father=None,mother=None):\n",
    "        children = self.find_children(father,mother)\n",
    "        spouses = self.find_spouse(children)\n",
    "        children_and_spouse_tup = tuple(zip(spouses.index,spouses))\n",
    "        return children_and_spouse_tup\n",
    "    \n",
    "    def assign_generation_to_person(self,person):\n",
    "        x\n",
    "        \n",
    "TEST_FILE = './test3_familytreebeard/descend_familytreebeard.csv'\n",
    "og = OxyGen(TEST_FILE)"
   ]
  },
  {
   "cell_type": "markdown",
   "metadata": {},
   "source": [
    "# TESTS"
   ]
  },
  {
   "cell_type": "code",
   "execution_count": null,
   "metadata": {},
   "outputs": [],
   "source": []
  },
  {
   "cell_type": "code",
   "execution_count": null,
   "metadata": {},
   "outputs": [],
   "source": [
    "og"
   ]
  },
  {
   "cell_type": "code",
   "execution_count": null,
   "metadata": {},
   "outputs": [],
   "source": [
    "for person, row in og.iterrows():\n",
    "    og.loc[person,'children'] = [[tuple(og.find_children(person).index)]]\n",
    "    "
   ]
  },
  {
   "cell_type": "code",
   "execution_count": null,
   "metadata": {},
   "outputs": [],
   "source": [
    "\"\"\"og['branch']=''\n",
    "og['gen']=''\n",
    "\n",
    "orig_couple = og.find_origin_couple()\n",
    "father = orig_couple['father']\n",
    "mother = orig_couple['mother']\n",
    "children = og.find_children(father=father,mother=mother)\"\"\"\n",
    "\n",
    "def print_branch_name(og,person,childnum):\n",
    "    print(og.firstname[person],og.surname[person])\n",
    "    spouse = og.find_spouse(person).index\n",
    "    if not np.isnan(spouse):\n",
    "        children = og.find_children.index\n",
    "        if not children.empty:\n",
    "            print_branch_name()\n",
    "    else:\n",
    "        break\n",
    "    \n",
    "children = og.find_children(0,4)\n",
    "for index, person in enumerate(children.index):\n",
    "    print_branch_name(og,person,index)\n"
   ]
  },
  {
   "cell_type": "code",
   "execution_count": null,
   "metadata": {},
   "outputs": [],
   "source": [
    "def print_branch_name(og,children):\n",
    "    if not children.empty:\n",
    "        for index, person in enumerate(children):\n",
    "            print(og.firstname[person],og.surname[person])\n",
    "            spouse_row = og.find_spouse(person)\n",
    "            if not spouse_row.empty:\n",
    "                spouse = spouse_row.index[0]\n",
    "                children = og.find_children(person,spouse).index\n",
    "                print_branch_name(og,children)\n",
    "\n",
    "children = og.find_children(0,4).index\n",
    "print_branch_name(og,children)"
   ]
  },
  {
   "cell_type": "code",
   "execution_count": null,
   "metadata": {},
   "outputs": [],
   "source": []
  },
  {
   "cell_type": "code",
   "execution_count": null,
   "metadata": {},
   "outputs": [],
   "source": [
    "children = og.find_children(0,4).index\n",
    "for index, person in enumerate(children):\n",
    "    print(og.firstname[person],og.surname[person])"
   ]
  },
  {
   "cell_type": "code",
   "execution_count": null,
   "metadata": {},
   "outputs": [],
   "source": [
    "x=og.find_spouse(1).index[0]\n",
    "og.find_children(1,x)"
   ]
  },
  {
   "cell_type": "code",
   "execution_count": null,
   "metadata": {},
   "outputs": [],
   "source": [
    "og.find_children().index.empty"
   ]
  },
  {
   "cell_type": "code",
   "execution_count": null,
   "metadata": {},
   "outputs": [],
   "source": [
    "def add_branch_name(og, person):\n",
    "    spouse = og.spouse[person]\n",
    "    father = og.father[person]\n",
    "    mother = og.mother[person]\n",
    "    couple_branch = og.branch[father] + BRANCH_NAME_ORDER[index]\n",
    "    og.loc[person,'branch'] = couple_branch\n",
    "    og.loc[spouse,'branch'] = couple_branch\n",
    "    \n",
    "    og = add_branch_name(og, new_father, new_mother)\n",
    "    \n",
    "    if children.empty:\n",
    "        return og\n",
    "    else:\n",
    "        for index, person in enumerate(children.index):\n",
    "            spouse = og.spouse[person]\n",
    "            father = og.father[person]\n",
    "            mother = og.mother[person]\n",
    "            couple_branch = og.branch[father] + BRANCH_NAME_ORDER[index]\n",
    "            og.loc[person,'branch'] = couple_branch\n",
    "            og.loc[spouse,'branch'] = couple_branch\n",
    "            new_father = person if og.sex[person]=='male' else spouse\n",
    "            new_mother = og.spouse[new_father]\n",
    "            og = add_branch_name(og, new_father, new_mother)\n",
    "            return og"
   ]
  },
  {
   "cell_type": "code",
   "execution_count": null,
   "metadata": {},
   "outputs": [],
   "source": [
    "og['branch']=''\n",
    "og['gen']=''\n",
    "BRANCH_NAME_ORDER = 'abcdefghijklmnopqqrstuvwxyz'\n",
    "\n",
    "orig_couple = og.find_origin_couple()\n",
    "father = orig_couple['father']\n",
    "mother = orig_couple['mother']\n",
    "children = og.find_children(father,mother)\n",
    "\n",
    "for index, person in enumerate(children.index):\n",
    "    spouse = og.spouse[person]\n",
    "    father = og.father[person]\n",
    "    mother = og.mother[person]\n",
    "    couple_branch = og.branch[father] + BRANCH_NAME_ORDER[index]\n",
    "    og.loc[person,'branch'] = couple_branch\n",
    "    og.loc[spouse,'branch'] = couple_branch\n",
    "    \n",
    "    father = person if og.sex[person]=='male' else spouse\n",
    "    mother = og.spouse[father]\n",
    "    print(og.firstname[father],og.firstname[mother])\n",
    "    children = og.find_children(father,mother)\n",
    "    for index, person in enumerate(children.index):\n",
    "        spouse = og.spouse[person]\n",
    "        father = og.father[person]\n",
    "        mother = og.mother[person]\n",
    "        couple_branch = og.branch[father] + BRANCH_NAME_ORDER[index]\n",
    "        og.loc[person,'branch'] = couple_branch\n",
    "        og.loc[spouse,'branch'] = couple_branch\n",
    "        \n",
    "        father = person if og.sex[person]=='male' else spouse\n",
    "        mother = og.spouse[father]\n",
    "        print(og.firstname[father],og.firstname[mother])\n",
    "        children = og.find_children(father,mother)\n",
    "        for index, person in enumerate(children.index):\n",
    "            spouse = og.spouse[person]\n",
    "            father = og.father[person]\n",
    "            mother = og.mother[person]\n",
    "            couple_branch = og.branch[father] + BRANCH_NAME_ORDER[index]\n",
    "            og.loc[person,'branch'] = couple_branch\n",
    "            og.loc[spouse,'branch'] = couple_branch\n",
    "            \n",
    "og"
   ]
  },
  {
   "cell_type": "code",
   "execution_count": null,
   "metadata": {},
   "outputs": [],
   "source": [
    "og['branch']=''\n",
    "og['gen']=''\n",
    "\n",
    "orig_couple = og.find_origin_couple()\n",
    "father = orig_couple['father']\n",
    "mother = orig_couple['mother']\n",
    "children = og.find_children(father=father,mother=mother)\n",
    "\n",
    "def add_branch_names(og, children):\n",
    "    if children.empty:\n",
    "        return og\n",
    "    else:\n",
    "        for index, person in enumerate(children.index):\n",
    "            spouse = og.spouse[person]\n",
    "            father = og.father[person]\n",
    "            mother = og.mother[person]\n",
    "            couple_branch = og.branch[father] + BRANCH_NAME_ORDER[index]\n",
    "            og.loc[person,'branch'] = couple_branch\n",
    "            og.loc[spouse,'branch'] = couple_branch\n",
    "            new_father = person if og.sex[person]=='male' else spouse\n",
    "            new_mother = og.spouse[new_father]\n",
    "            og = add_branch_name(og, new_father, new_mother)\n",
    "            return og\n",
    "    \n",
    "\"\"\" father = person if og.sex[person]=='male' else spouse\n",
    "mother = og.spouse[father]\n",
    "children = og.find_children(father=father,mother=mother)\n",
    "for index, person in enumerate(children.index):\n",
    "    spouse = og.spouse[person]\n",
    "    father = og.father[person]\n",
    "    mother = og.mother[person]\n",
    "    couple_branch = og.branch[father] + BRANCH_NAME_ORDER[index]\n",
    "    og.loc[person,'branch'] = couple_branch\n",
    "    og.loc[spouse,'branch'] = couple_branch\n",
    "\n",
    "    father = person if og.sex[person]=='male' else spouse\n",
    "    mother = og.spouse[father]\n",
    "    children = og.find_children(father=father,mother=mother)\n",
    "    for index, person in enumerate(children.index):\n",
    "        spouse = og.spouse[person]\n",
    "        father = og.father[person]\n",
    "        mother = og.mother[person]\n",
    "        couple_branch = og.branch[father] + BRANCH_NAME_ORDER[index]\n",
    "        og.loc[person,'branch'] = couple_branch\n",
    "        og.loc[spouse,'branch'] = couple_branch       \"\"\" "
   ]
  },
  {
   "cell_type": "code",
   "execution_count": null,
   "metadata": {},
   "outputs": [],
   "source": [
    "og = add_branch_name(og,0,4)"
   ]
  },
  {
   "cell_type": "code",
   "execution_count": null,
   "metadata": {},
   "outputs": [],
   "source": [
    "date(1988)"
   ]
  },
  {
   "cell_type": "code",
   "execution_count": null,
   "metadata": {},
   "outputs": [],
   "source": [
    "for person in children_1:\n",
    "    print(person in children_1)"
   ]
  },
  {
   "cell_type": "code",
   "execution_count": null,
   "metadata": {},
   "outputs": [],
   "source": [
    "BRANCH_NAME_ORDER = 'abcdefghijklmnopqrstuvwxyz'\n",
    "dict(zip(range(0, len(BRANCH_NAME_ORDER)), BRANCH_NAME_ORDER))"
   ]
  },
  {
   "cell_type": "code",
   "execution_count": null,
   "metadata": {},
   "outputs": [],
   "source": [
    "def find_children(df,father=None,mother=None):\n",
    "    #father_bool = df.father==father if father==none\n",
    "    \n",
    "    father_arg = (father!=None)\n",
    "    mother_arg = (mother!=None)\n",
    "    \n",
    "    if (father != None) & (mother != None):\n",
    "        children = df[(df.father==father) & (df.mother==mother)].index.tolist()\n",
    "    elif (father != None) & (mother == None):\n",
    "        children = df[(df.father==father)].index.tolist()\n",
    "    elif (father == None) & (mother != None):\n",
    "        children = df[(df.mother==mother)].index.tolist()\n",
    "    elif (father == None) & (mother == None):\n",
    "        children = []\n",
    "    \n",
    "    \n",
    "    return children"
   ]
  },
  {
   "cell_type": "code",
   "execution_count": null,
   "metadata": {},
   "outputs": [],
   "source": [
    "def convert_to_int(values):\n",
    "    if np.isnan(values).any():\n",
    "        return values\n",
    "    else:\n",
    "        int_values = [int(a) for a in values] # DOESN'T WORK IF VALUES ISN'T ITERABLE!? WHYYY\n",
    "        return int_values\n",
    "\n",
    "x = [float('nan'),2.0,3.0]\n",
    "y = [1.0,2.0,3.0]\n",
    "convert_to_int(1)"
   ]
  },
  {
   "cell_type": "markdown",
   "metadata": {},
   "source": [
    "## Class Instance"
   ]
  },
  {
   "cell_type": "code",
   "execution_count": null,
   "metadata": {},
   "outputs": [],
   "source": [
    "[int(x) for x in [1.,2.,3.]]"
   ]
  },
  {
   "cell_type": "code",
   "execution_count": null,
   "metadata": {},
   "outputs": [],
   "source": [
    "ged_actual.find_origin_couple()"
   ]
  },
  {
   "cell_type": "code",
   "execution_count": null,
   "metadata": {},
   "outputs": [],
   "source": [
    "ged_actual.find_children(0,4)"
   ]
  },
  {
   "cell_type": "code",
   "execution_count": null,
   "metadata": {},
   "outputs": [],
   "source": [
    "ged_actual.find_spouse([1,2,4])"
   ]
  },
  {
   "cell_type": "markdown",
   "metadata": {},
   "source": [
    "## Sandbox"
   ]
  },
  {
   "cell_type": "code",
   "execution_count": null,
   "metadata": {},
   "outputs": [],
   "source": []
  },
  {
   "cell_type": "code",
   "execution_count": null,
   "metadata": {},
   "outputs": [],
   "source": [
    "def find_spouse(df,person):\n",
    "    "
   ]
  },
  {
   "cell_type": "code",
   "execution_count": null,
   "metadata": {},
   "outputs": [],
   "source": [
    "def find_children(df,father,mother):\n",
    "    df[(df.father==father) & (df.mother==mother)].index.tolist()"
   ]
  },
  {
   "cell_type": "code",
   "execution_count": null,
   "metadata": {},
   "outputs": [],
   "source": [
    "df[(df.mother==4) & (df.father==0)].index.tolist()"
   ]
  },
  {
   "cell_type": "code",
   "execution_count": null,
   "metadata": {},
   "outputs": [],
   "source": [
    "#df = df[list(keep_dict.keys())]\n",
    "#df.rename(columns=keep_dict,inplace=True)\n",
    "#df['sex'].replace({0:'male',1:'female'}, inplace=True)\n",
    "\n",
    "df.set_index('person',inplace=True)\n",
    "\n",
    "\"\"\"for index, row in df.iterrows():\n",
    "    person = index\n",
    "    father = row.father\n",
    "    mother = row.mother\n",
    "    spouse = row.spouse\n",
    "    spousemother = df.mother[spouse]\n",
    "    spousefather = df.father[spouse]\n",
    "    print(person,father,mother,spouse,spousemother,spousefather)\n",
    "    \"\"\"\n",
    "\n",
    "#np.isnan([float('nan'), 2, 3, 4]).any()\n",
    "\n",
    "def find_origin_couple(df):\n",
    "    people_with_no_parents = df[np.isnan(df.mother) & np.isnan(df.father)].index\n",
    "    for person in people_with_no_parents:\n",
    "        spouse = df.spouse[person]\n",
    "        spousemother = df.mother[spouse]\n",
    "        spousefather = df.father[spouse]\n",
    "        if np.isnan([spousemother,spousefather]).all():\n",
    "            if df.sex[person]=='male':\n",
    "                origin_couple = {'male':person, 'female':spouse}\n",
    "            elif df.sex[person=='female']:\n",
    "                origin_couple = {'male':spouse, 'female':person}\n",
    "            break\n",
    "    return origin_couple\n",
    "    "
   ]
  },
  {
   "cell_type": "code",
   "execution_count": null,
   "metadata": {},
   "outputs": [],
   "source": []
  },
  {
   "cell_type": "code",
   "execution_count": null,
   "metadata": {},
   "outputs": [],
   "source": [
    "def find_children(df,father,mother):\n",
    "    print(df.mother, df.father)\n",
    "    \n",
    "find_children(df,0,4)\n",
    "    "
   ]
  },
  {
   "cell_type": "code",
   "execution_count": null,
   "metadata": {},
   "outputs": [],
   "source": [
    "class Ged():\n",
    "    def  __init__(self, filename):\n",
    "        self.df = pd.read_csv(filename)"
   ]
  },
  {
   "cell_type": "code",
   "execution_count": null,
   "metadata": {},
   "outputs": [],
   "source": [
    "X = Ged('./test3_familytreebeard/descend_familytreebeard.csv')"
   ]
  },
  {
   "cell_type": "code",
   "execution_count": null,
   "metadata": {},
   "outputs": [],
   "source": [
    "X.df"
   ]
  },
  {
   "cell_type": "code",
   "execution_count": null,
   "metadata": {},
   "outputs": [],
   "source": [
    "def mmm():\n",
    "    a = 2\n",
    "    b = 3\n",
    "    def h(k):\n",
    "        return k*b\n",
    "    return h(a)\n",
    "\n",
    "    "
   ]
  },
  {
   "cell_type": "code",
   "execution_count": null,
   "metadata": {},
   "outputs": [],
   "source": [
    "mmm()"
   ]
  },
  {
   "cell_type": "markdown",
   "metadata": {},
   "source": [
    "# SCRAP"
   ]
  },
  {
   "cell_type": "code",
   "execution_count": null,
   "metadata": {},
   "outputs": [],
   "source": [
    "def find_mother(df,person):\n",
    "    return df.mother[person]"
   ]
  },
  {
   "cell_type": "code",
   "execution_count": null,
   "metadata": {},
   "outputs": [],
   "source": [
    "x=[]\n",
    "for person, row in df.iterrows():\n",
    "    spouse = row.spouse\n",
    "    spouseparent = df[parenttype]\n",
    "    if spousetype == 'mother':\n",
    "        spouseparent = df.mother[spouse]\n",
    "    elif spousetype == 'father':\n",
    "        spouseparent = df.mother[spouse]\n",
    "    x.append(spouseparent)"
   ]
  },
  {
   "cell_type": "code",
   "execution_count": null,
   "metadata": {},
   "outputs": [],
   "source": [
    "person = 6\n",
    "row = df.loc[person,:]\n",
    "print(row)"
   ]
  },
  {
   "cell_type": "code",
   "execution_count": null,
   "metadata": {},
   "outputs": [],
   "source": [
    "df_parentless = df[np.isnan(df.mother) & np.isnan(df.father)]\n",
    "persons_parentless = df_parentless.index\n",
    "spouses_parentless = df_parentless.spouse\n",
    "#df_parentless.loc[spouses_parentless]\n",
    "\n",
    "a = df_parentless.index\n",
    "b = df_parentless.spouse\n",
    "for index, row in df_parentless.iterrows():\n",
    "    print(index in b.values)"
   ]
  },
  {
   "cell_type": "code",
   "execution_count": null,
   "metadata": {},
   "outputs": [],
   "source": [
    "df_people_noparents = df[np.isnan(df.mother) & np.isnan(df.father)]\n",
    "#df_people_noparents_spouses"
   ]
  },
  {
   "cell_type": "code",
   "execution_count": null,
   "metadata": {},
   "outputs": [],
   "source": [
    "df_people_noparents"
   ]
  },
  {
   "cell_type": "code",
   "execution_count": null,
   "metadata": {},
   "outputs": [],
   "source": [
    "p = find_origin_couple(df)\n",
    "(df.father==p['male']) & (df.mother==p['female'])\n",
    "#df[df.father==p[1] & df.mother==p[0]]"
   ]
  },
  {
   "cell_type": "code",
   "execution_count": null,
   "metadata": {},
   "outputs": [],
   "source": [
    "find_origin_couple(df)"
   ]
  },
  {
   "cell_type": "code",
   "execution_count": null,
   "metadata": {},
   "outputs": [],
   "source": [
    "for person in df.person:\n",
    "    mother = df.mother[person]\n",
    "    father = df.father[person]\n",
    "    spouse = df.spouse[person]\n",
    "    spousemother = df.mother[spouse]\n",
    "    spousefather = df.father[spouse]\n",
    "    print(person,spouse,father,mother)\n",
    "    #person_row = df[df.person==person]\n",
    "    #spouse_row = df[df.person==spouse]\n",
    "    #print(person_row.firstname[person])\n",
    "    #print(spouse_row.firstname[spouse])\n",
    "    \n",
    "# df.loc[np.isnan(df.father) & np.isnan(df.mother)]"
   ]
  },
  {
   "cell_type": "code",
   "execution_count": null,
   "metadata": {},
   "outputs": [],
   "source": [
    "df"
   ]
  }
 ],
 "metadata": {
  "kernelspec": {
   "display_name": "Python 3",
   "language": "python",
   "name": "python3"
  },
  "language_info": {
   "codemirror_mode": {
    "name": "ipython",
    "version": 3
   },
   "file_extension": ".py",
   "mimetype": "text/x-python",
   "name": "python",
   "nbconvert_exporter": "python",
   "pygments_lexer": "ipython3",
   "version": "3.6.5"
  }
 },
 "nbformat": 4,
 "nbformat_minor": 2
}
