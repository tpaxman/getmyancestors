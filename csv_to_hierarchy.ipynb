{
 "cells": [
  {
   "cell_type": "code",
   "execution_count": null,
   "metadata": {},
   "outputs": [],
   "source": [
    "import pandas as pd\n",
    "import numpy as np"
   ]
  },
  {
   "cell_type": "markdown",
   "metadata": {},
   "source": [
    "These are the column names of the wanted variables, produced by Oxy-Gen, with their conversions to easier names:"
   ]
  },
  {
   "cell_type": "code",
   "execution_count": null,
   "metadata": {},
   "outputs": [],
   "source": [
    "keep_dict = {\n",
    "    'OXG_ID_INDIVIDU'  : 'person',\n",
    "    'OXG_ID_FATHER'    : 'father',\n",
    "    'OXG_ID_MOTHER'    : 'mother',\n",
    "    'OXG_PARTNER'      : 'spouse',\n",
    "    'OXG_ID_PATRONYME' : 'surname',\n",
    "    'OXG_GIVNAME'      : 'firstname',\n",
    "    'OXG_Sex'          : 'sex',\n",
    "}"
   ]
  },
  {
   "cell_type": "code",
   "execution_count": null,
   "metadata": {},
   "outputs": [],
   "source": [
    "df = pd.read_csv('./test3_familytreebeard/descend_familytreebeard.csv')\n",
    "df = df[list(keep_dict.keys())]\n",
    "df.rename(columns=keep_dict,inplace=True)\n",
    "\n",
    "df.set_index('person',inplace=True)\n",
    "\n",
    "\"\"\"for index, row in df.iterrows():\n",
    "    person = index\n",
    "    father = row.father\n",
    "    mother = row.mother\n",
    "    spouse = row.spouse\n",
    "    spousemother = df.mother[spouse]\n",
    "    spousefather = df.father[spouse]\n",
    "    print(person,father,mother,spouse,spousemother,spousefather)\n",
    "    \"\"\"\n",
    "\n",
    "#np.isnan([float('nan'), 2, 3, 4]).any()\n",
    "\n",
    "def find_origin_couple(df):\n",
    "    people_with_no_parents = df[np.isnan(df.mother) & np.isnan(df.father)].index\n",
    "    for person in people_with_no_parents:\n",
    "        spouse = df.spouse[person]\n",
    "        spousemother = df.mother[spouse]\n",
    "        spousefather = df.father[spouse]\n",
    "        if np.isnan([spousemother,spousefather]).all():\n",
    "            origin_couple = (int(person),int(spouse))\n",
    "            break\n",
    "    return origin_couple\n",
    "    "
   ]
  },
  {
   "cell_type": "code",
   "execution_count": null,
   "metadata": {},
   "outputs": [],
   "source": [
    "find_origin_couple(df)"
   ]
  },
  {
   "cell_type": "code",
   "execution_count": null,
   "metadata": {},
   "outputs": [],
   "source": [
    "for person in df.person:\n",
    "    mother = df.mother[person]\n",
    "    father = df.father[person]\n",
    "    spouse = df.spouse[person]\n",
    "    spousemother = df.mother[spouse]\n",
    "    spousefather = df.father[spouse]\n",
    "    print(person,spouse,father,mother)\n",
    "    #person_row = df[df.person==person]\n",
    "    #spouse_row = df[df.person==spouse]\n",
    "    #print(person_row.firstname[person])\n",
    "    #print(spouse_row.firstname[spouse])\n",
    "    \n",
    "# df.loc[np.isnan(df.father) & np.isnan(df.mother)]"
   ]
  },
  {
   "cell_type": "code",
   "execution_count": null,
   "metadata": {},
   "outputs": [],
   "source": [
    "df"
   ]
  }
 ],
 "metadata": {
  "kernelspec": {
   "display_name": "Python 3",
   "language": "python",
   "name": "python3"
  },
  "language_info": {
   "codemirror_mode": {
    "name": "ipython",
    "version": 3
   },
   "file_extension": ".py",
   "mimetype": "text/x-python",
   "name": "python",
   "nbconvert_exporter": "python",
   "pygments_lexer": "ipython3",
   "version": "3.6.5"
  }
 },
 "nbformat": 4,
 "nbformat_minor": 2
}
