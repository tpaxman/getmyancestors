{
 "cells": [
  {
   "cell_type": "code",
   "execution_count": null,
   "metadata": {},
   "outputs": [],
   "source": [
    "import pandas as pd\n",
    "import numpy as np"
   ]
  },
  {
   "cell_type": "markdown",
   "metadata": {},
   "source": [
    "These are the column names of the wanted variables, produced by Oxy-Gen, with their conversions to easier names:"
   ]
  },
  {
   "cell_type": "code",
   "execution_count": null,
   "metadata": {},
   "outputs": [],
   "source": [
    "keep_dict = {\n",
    "    'OXG_ID_INDIVIDU'  : 'person',\n",
    "    'OXG_ID_FATHER'    : 'father',\n",
    "    'OXG_ID_MOTHER'    : 'mother',\n",
    "    'OXG_PARTNER'      : 'spouse',\n",
    "    'OXG_ID_PATRONYME' : 'surname',\n",
    "    'OXG_GIVNAME'      : 'firstname',\n",
    "    'OXG_Sex'          : 'sex',\n",
    "}"
   ]
  },
  {
   "cell_type": "code",
   "execution_count": null,
   "metadata": {},
   "outputs": [],
   "source": [
    "df = pd.read_csv('./test3_familytreebeard/descend_familytreebeard.csv')\n",
    "df = df[list(keep_dict.keys())]\n",
    "df.rename(columns=keep_dict,inplace=True)"
   ]
  },
  {
   "cell_type": "code",
   "execution_count": null,
   "metadata": {},
   "outputs": [],
   "source": [
    "df.head()"
   ]
  },
  {
   "cell_type": "markdown",
   "metadata": {},
   "source": [
    "Find oldest couple of the set"
   ]
  },
  {
   "cell_type": "code",
   "execution_count": null,
   "metadata": {},
   "outputs": [],
   "source": [
    "np.isnan([float('nan'), 2, 3, 4]).any()"
   ]
  },
  {
   "cell_type": "code",
   "execution_count": null,
   "metadata": {},
   "outputs": [],
   "source": [
    "for index, row in df.iterrows():\n",
    "    if np.isnan([row.father, row.mother, ])\n",
    "    if np.isnan(row.father) & np.isnan()"
   ]
  },
  {
   "cell_type": "code",
   "execution_count": null,
   "metadata": {},
   "outputs": [],
   "source": [
    "for person in df.person:\n",
    "    mother = df.loc[df.person==person,'mother'].values[0]\n",
    "    father = df.loc[df.person==person,'father'].values[0]\n",
    "    spouse = df.loc[df.person==person,'spouse'].values[0]\n",
    "    spousemother = df.loc[df.person==spouse, 'mother'].values[0]\n",
    "    spousefather = df.loc[df.person==spouse, 'father'].values[0]\n",
    "    print(mother,father,spouse,spousemother,spousefather)"
   ]
  },
  {
   "cell_type": "code",
   "execution_count": null,
   "metadata": {},
   "outputs": [],
   "source": [
    "df.reset_index(inplace=True)\n",
    "df.set_index('person',inplace=True)"
   ]
  },
  {
   "cell_type": "code",
   "execution_count": null,
   "metadata": {},
   "outputs": [],
   "source": [
    "df"
   ]
  },
  {
   "cell_type": "code",
   "execution_count": null,
   "metadata": {},
   "outputs": [],
   "source": [
    "for person in df.person:\n",
    "    mother = df.mother[person]\n",
    "    father = df.father[person]\n",
    "    spouse = df.spouse[person]\n",
    "    spousemother = df.mother[spouse]\n",
    "    spousefather = df.father[spouse]\n",
    "    print(person,spouse,father,mother)\n",
    "    #person_row = df[df.person==person]\n",
    "    #spouse_row = df[df.person==spouse]\n",
    "    #print(person_row.firstname[person])\n",
    "    #print(spouse_row.firstname[spouse])\n",
    "    \n",
    "# df.loc[np.isnan(df.father) & np.isnan(df.mother)]"
   ]
  },
  {
   "cell_type": "code",
   "execution_count": null,
   "metadata": {},
   "outputs": [],
   "source": [
    "df"
   ]
  }
 ],
 "metadata": {
  "kernelspec": {
   "display_name": "Python 3",
   "language": "python",
   "name": "python3"
  },
  "language_info": {
   "codemirror_mode": {
    "name": "ipython",
    "version": 3
   },
   "file_extension": ".py",
   "mimetype": "text/x-python",
   "name": "python",
   "nbconvert_exporter": "python",
   "pygments_lexer": "ipython3",
   "version": "3.6.5"
  }
 },
 "nbformat": 4,
 "nbformat_minor": 2
}
