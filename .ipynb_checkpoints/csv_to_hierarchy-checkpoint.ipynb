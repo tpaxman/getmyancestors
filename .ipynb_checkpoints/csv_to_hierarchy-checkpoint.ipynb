{
 "cells": [
  {
   "cell_type": "code",
   "execution_count": 2,
   "metadata": {},
   "outputs": [],
   "source": [
    "import pandas as pd\n",
    "import numpy as np"
   ]
  },
  {
   "cell_type": "markdown",
   "metadata": {},
   "source": [
    "# CLASS"
   ]
  },
  {
   "cell_type": "code",
   "execution_count": 6,
   "metadata": {},
   "outputs": [],
   "source": [
    "class OxyGen(pd.DataFrame):\n",
    "    \n",
    "    def  __init__(self, filename):\n",
    "        KEEP_DICT = {\n",
    "        'OXG_ID_INDIVIDU'  : 'person',\n",
    "        'OXG_ID_FATHER'    : 'father',\n",
    "        'OXG_ID_MOTHER'    : 'mother',\n",
    "        'OXG_PARTNER'      : 'spouse',\n",
    "        'OXG_ID_PATRONYME' : 'surname',\n",
    "        'OXG_GIVNAME'      : 'firstname',\n",
    "        'OXG_Sex'          : 'sex',\n",
    "        }\n",
    "        SEX_DICT = {0:'male',1:'female'}\n",
    "        df = pd.read_csv(filename)\n",
    "        df = df[list(KEEP_DICT.keys())]\n",
    "        df.rename(columns=KEEP_DICT,inplace=True)\n",
    "        df['sex'].replace(SEX_DICT, inplace=True)\n",
    "        df.set_index('person',inplace=True)\n",
    "        super().__init__(df)\n",
    "        \n",
    "    def find_origin_couple(self):\n",
    "        df = self\n",
    "        people_with_no_parents = df[np.isnan(df.mother) & np.isnan(df.father)].index\n",
    "        for person in people_with_no_parents:\n",
    "            spouse = df.spouse[person]\n",
    "            spousemother = df.mother[spouse]\n",
    "            spousefather = df.father[spouse]\n",
    "            if np.isnan([spousemother,spousefather]).all():\n",
    "                if df.sex[person]=='male':\n",
    "                    origin_couple = {'male':person, 'female':spouse}\n",
    "                elif df.sex[person=='female']:\n",
    "                    origin_couple = {'male':spouse, 'female':person}\n",
    "                break\n",
    "        return origin_couple\n",
    "    \n",
    "    def find_children(self,father=None,mother=None):\n",
    "        df = self\n",
    "        \n",
    "        father_slicer = (df.father==father) if father!=None else True\n",
    "        mother_slicer = (df.mother==mother) if mother!=None else True\n",
    "        \n",
    "        df_bool = father_slicer & mother_slicer    \n",
    "        \n",
    "        \"\"\"if (father != None) & (mother != None):\n",
    "            df_bool = (df.father==father) & (df.mother==mother)\n",
    "        elif (father != None) & (mother == None):\n",
    "            df_bool = (df.father==father)\n",
    "        elif (father == None) & (mother != None):\n",
    "            df_bool = (df.mother==mother)\n",
    "        elif (father == None) & (mother == None):\n",
    "            df_bool = (df.mother==mother)\"\"\"\n",
    "        children = df[df_bool].index.tolist()\n",
    "        return children\n",
    "\n",
    "    def find_spouse(self,person):\n",
    "        df = self\n",
    "        spouse = df.spouse[person]\n",
    "        return spouse"
   ]
  },
  {
   "cell_type": "markdown",
   "metadata": {},
   "source": [
    "# TESTS"
   ]
  },
  {
   "cell_type": "code",
   "execution_count": 7,
   "metadata": {},
   "outputs": [],
   "source": [
    "TEST_FILE = './test3_familytreebeard/descend_familytreebeard.csv'\n",
    "og = OxyGen(TEST_FILE)"
   ]
  },
  {
   "cell_type": "code",
   "execution_count": 11,
   "metadata": {},
   "outputs": [
    {
     "data": {
      "text/plain": [
       "[1, 2, 3, 5, 6, 7]"
      ]
     },
     "execution_count": 11,
     "metadata": {},
     "output_type": "execute_result"
    }
   ],
   "source": [
    "og.find_children(0,4)"
   ]
  },
  {
   "cell_type": "code",
   "execution_count": 89,
   "metadata": {},
   "outputs": [],
   "source": [
    "def find_children(df,father=None,mother=None):\n",
    "    #father_bool = df.father==father if father==none\n",
    "    \n",
    "    father_arg = (father!=None)\n",
    "    mother_arg = (mother!=None)\n",
    "    \n",
    "    if (father != None) & (mother != None):\n",
    "        children = df[(df.father==father) & (df.mother==mother)].index.tolist()\n",
    "    elif (father != None) & (mother == None):\n",
    "        children = df[(df.father==father)].index.tolist()\n",
    "    elif (father == None) & (mother != None):\n",
    "        children = df[(df.mother==mother)].index.tolist()\n",
    "    elif (father == None) & (mother == None):\n",
    "        children = []\n",
    "    \n",
    "    \n",
    "    return children"
   ]
  },
  {
   "cell_type": "code",
   "execution_count": 87,
   "metadata": {},
   "outputs": [
    {
     "data": {
      "text/plain": [
       "[1, 2, 3, 5, 6, 7]"
      ]
     },
     "execution_count": 87,
     "metadata": {},
     "output_type": "execute_result"
    }
   ],
   "source": [
    "father = 0\n",
    "mother = 4\n",
    "\n",
    "\n",
    "\n",
    "df[(df.father==father) | (df.mother==mother)].index.tolist()"
   ]
  },
  {
   "cell_type": "code",
   "execution_count": 98,
   "metadata": {},
   "outputs": [
    {
     "data": {
      "text/plain": [
       "[1, 2, 3, 5, 6, 7, 12, 19, 23, 33]"
      ]
     },
     "execution_count": 98,
     "metadata": {},
     "output_type": "execute_result"
    }
   ],
   "source": [
    "og.find_children(father=2,mother=4)"
   ]
  },
  {
   "cell_type": "code",
   "execution_count": 66,
   "metadata": {},
   "outputs": [
    {
     "data": {
      "text/plain": [
       "[1, 2, 3, 5, 6, 7]"
      ]
     },
     "execution_count": 66,
     "metadata": {},
     "output_type": "execute_result"
    }
   ],
   "source": [
    "find_children(og,0,4)"
   ]
  },
  {
   "cell_type": "code",
   "execution_count": null,
   "metadata": {},
   "outputs": [],
   "source": [
    "def convert_to_int(values):\n",
    "    if np.isnan(values).any():\n",
    "        return values\n",
    "    else:\n",
    "        int_values = [int(a) for a in values] # DOESN'T WORK IF VALUES ISN'T ITERABLE!? WHYYY\n",
    "        return int_values\n",
    "\n",
    "x = [float('nan'),2.0,3.0]\n",
    "y = [1.0,2.0,3.0]\n",
    "convert_to_int(1)"
   ]
  },
  {
   "cell_type": "markdown",
   "metadata": {},
   "source": [
    "## Class Instance"
   ]
  },
  {
   "cell_type": "code",
   "execution_count": null,
   "metadata": {},
   "outputs": [],
   "source": [
    "[int(x) for x in [1.,2.,3.]]"
   ]
  },
  {
   "cell_type": "code",
   "execution_count": null,
   "metadata": {},
   "outputs": [],
   "source": [
    "ged_actual.find_origin_couple()"
   ]
  },
  {
   "cell_type": "code",
   "execution_count": null,
   "metadata": {},
   "outputs": [],
   "source": [
    "ged_actual.find_children(0,4)"
   ]
  },
  {
   "cell_type": "code",
   "execution_count": null,
   "metadata": {},
   "outputs": [],
   "source": [
    "ged_actual.find_spouse([1,2,4])"
   ]
  },
  {
   "cell_type": "markdown",
   "metadata": {},
   "source": [
    "## Sandbox"
   ]
  },
  {
   "cell_type": "code",
   "execution_count": null,
   "metadata": {},
   "outputs": [],
   "source": []
  },
  {
   "cell_type": "code",
   "execution_count": null,
   "metadata": {},
   "outputs": [],
   "source": [
    "def find_spouse(df,person):\n",
    "    "
   ]
  },
  {
   "cell_type": "code",
   "execution_count": null,
   "metadata": {},
   "outputs": [],
   "source": [
    "def find_children(df,father,mother):\n",
    "    df[(df.father==father) & (df.mother==mother)].index.tolist()"
   ]
  },
  {
   "cell_type": "code",
   "execution_count": null,
   "metadata": {},
   "outputs": [],
   "source": [
    "df[(df.mother==4) & (df.father==0)].index.tolist()"
   ]
  },
  {
   "cell_type": "code",
   "execution_count": null,
   "metadata": {},
   "outputs": [],
   "source": [
    "#df = df[list(keep_dict.keys())]\n",
    "#df.rename(columns=keep_dict,inplace=True)\n",
    "#df['sex'].replace({0:'male',1:'female'}, inplace=True)\n",
    "\n",
    "df.set_index('person',inplace=True)\n",
    "\n",
    "\"\"\"for index, row in df.iterrows():\n",
    "    person = index\n",
    "    father = row.father\n",
    "    mother = row.mother\n",
    "    spouse = row.spouse\n",
    "    spousemother = df.mother[spouse]\n",
    "    spousefather = df.father[spouse]\n",
    "    print(person,father,mother,spouse,spousemother,spousefather)\n",
    "    \"\"\"\n",
    "\n",
    "#np.isnan([float('nan'), 2, 3, 4]).any()\n",
    "\n",
    "def find_origin_couple(df):\n",
    "    people_with_no_parents = df[np.isnan(df.mother) & np.isnan(df.father)].index\n",
    "    for person in people_with_no_parents:\n",
    "        spouse = df.spouse[person]\n",
    "        spousemother = df.mother[spouse]\n",
    "        spousefather = df.father[spouse]\n",
    "        if np.isnan([spousemother,spousefather]).all():\n",
    "            if df.sex[person]=='male':\n",
    "                origin_couple = {'male':person, 'female':spouse}\n",
    "            elif df.sex[person=='female']:\n",
    "                origin_couple = {'male':spouse, 'female':person}\n",
    "            break\n",
    "    return origin_couple\n",
    "    "
   ]
  },
  {
   "cell_type": "code",
   "execution_count": null,
   "metadata": {},
   "outputs": [],
   "source": []
  },
  {
   "cell_type": "code",
   "execution_count": null,
   "metadata": {},
   "outputs": [],
   "source": [
    "def find_children(df,father,mother):\n",
    "    print(df.mother, df.father)\n",
    "    \n",
    "find_children(df,0,4)\n",
    "    "
   ]
  },
  {
   "cell_type": "code",
   "execution_count": null,
   "metadata": {},
   "outputs": [],
   "source": [
    "class Ged():\n",
    "    def  __init__(self, filename):\n",
    "        self.df = pd.read_csv(filename)"
   ]
  },
  {
   "cell_type": "code",
   "execution_count": null,
   "metadata": {},
   "outputs": [],
   "source": [
    "X = Ged('./test3_familytreebeard/descend_familytreebeard.csv')"
   ]
  },
  {
   "cell_type": "code",
   "execution_count": null,
   "metadata": {},
   "outputs": [],
   "source": [
    "X.df"
   ]
  },
  {
   "cell_type": "code",
   "execution_count": null,
   "metadata": {},
   "outputs": [],
   "source": [
    "def mmm():\n",
    "    a = 2\n",
    "    b = 3\n",
    "    def h(k):\n",
    "        return k*b\n",
    "    return h(a)\n",
    "\n",
    "    "
   ]
  },
  {
   "cell_type": "code",
   "execution_count": null,
   "metadata": {},
   "outputs": [],
   "source": [
    "mmm()"
   ]
  },
  {
   "cell_type": "markdown",
   "metadata": {},
   "source": [
    "# SCRAP"
   ]
  },
  {
   "cell_type": "code",
   "execution_count": null,
   "metadata": {},
   "outputs": [],
   "source": [
    "def find_mother(df,person):\n",
    "    return df.mother[person]"
   ]
  },
  {
   "cell_type": "code",
   "execution_count": null,
   "metadata": {},
   "outputs": [],
   "source": [
    "x=[]\n",
    "for person, row in df.iterrows():\n",
    "    spouse = row.spouse\n",
    "    spouseparent = df[parenttype]\n",
    "    if spousetype == 'mother':\n",
    "        spouseparent = df.mother[spouse]\n",
    "    elif spousetype == 'father':\n",
    "        spouseparent = df.mother[spouse]\n",
    "    x.append(spouseparent)"
   ]
  },
  {
   "cell_type": "code",
   "execution_count": null,
   "metadata": {},
   "outputs": [],
   "source": [
    "person = 6\n",
    "row = df.loc[person,:]\n",
    "print(row)"
   ]
  },
  {
   "cell_type": "code",
   "execution_count": null,
   "metadata": {},
   "outputs": [],
   "source": [
    "df_parentless = df[np.isnan(df.mother) & np.isnan(df.father)]\n",
    "persons_parentless = df_parentless.index\n",
    "spouses_parentless = df_parentless.spouse\n",
    "#df_parentless.loc[spouses_parentless]\n",
    "\n",
    "a = df_parentless.index\n",
    "b = df_parentless.spouse\n",
    "for index, row in df_parentless.iterrows():\n",
    "    print(index in b.values)"
   ]
  },
  {
   "cell_type": "code",
   "execution_count": null,
   "metadata": {},
   "outputs": [],
   "source": [
    "df_people_noparents = df[np.isnan(df.mother) & np.isnan(df.father)]\n",
    "#df_people_noparents_spouses"
   ]
  },
  {
   "cell_type": "code",
   "execution_count": null,
   "metadata": {},
   "outputs": [],
   "source": [
    "df_people_noparents"
   ]
  },
  {
   "cell_type": "code",
   "execution_count": null,
   "metadata": {},
   "outputs": [],
   "source": [
    "p = find_origin_couple(df)\n",
    "(df.father==p['male']) & (df.mother==p['female'])\n",
    "#df[df.father==p[1] & df.mother==p[0]]"
   ]
  },
  {
   "cell_type": "code",
   "execution_count": null,
   "metadata": {},
   "outputs": [],
   "source": [
    "find_origin_couple(df)"
   ]
  },
  {
   "cell_type": "code",
   "execution_count": null,
   "metadata": {},
   "outputs": [],
   "source": [
    "for person in df.person:\n",
    "    mother = df.mother[person]\n",
    "    father = df.father[person]\n",
    "    spouse = df.spouse[person]\n",
    "    spousemother = df.mother[spouse]\n",
    "    spousefather = df.father[spouse]\n",
    "    print(person,spouse,father,mother)\n",
    "    #person_row = df[df.person==person]\n",
    "    #spouse_row = df[df.person==spouse]\n",
    "    #print(person_row.firstname[person])\n",
    "    #print(spouse_row.firstname[spouse])\n",
    "    \n",
    "# df.loc[np.isnan(df.father) & np.isnan(df.mother)]"
   ]
  },
  {
   "cell_type": "code",
   "execution_count": null,
   "metadata": {},
   "outputs": [],
   "source": [
    "df"
   ]
  }
 ],
 "metadata": {
  "kernelspec": {
   "display_name": "Python 3",
   "language": "python",
   "name": "python3"
  },
  "language_info": {
   "codemirror_mode": {
    "name": "ipython",
    "version": 3
   },
   "file_extension": ".py",
   "mimetype": "text/x-python",
   "name": "python",
   "nbconvert_exporter": "python",
   "pygments_lexer": "ipython3",
   "version": "3.6.5"
  }
 },
 "nbformat": 4,
 "nbformat_minor": 2
}
